{
 "cells": [
  {
   "cell_type": "markdown",
   "metadata": {},
   "source": [
    "#### 2.7 实现两个模块间的代码元素访问"
   ]
  },
  {
   "cell_type": "code",
   "execution_count": 3,
   "metadata": {},
   "outputs": [
    {
     "name": "stdout",
     "output_type": "stream",
     "text": [
      "20\n",
      "True\n",
      "20.0\n",
      "你好\n"
     ]
    }
   ],
   "source": [
    "!python Chapter2/codes/hello.py"
   ]
  },
  {
   "cell_type": "markdown",
   "metadata": {},
   "source": [
    "#### 2.8 练一练\n",
    "\n",
    "1.下列哪些是Python的合法标识符。（）\n",
    "\n",
    "A. 2variable B. variable2 C. _whatavariable D. \\_3\\_ E. $anothervar F. 体重\n",
    "\n",
    "答案：\n",
    "\n",
    "B, C, D. 首字符可以是下画线（_）或字母，但不能是数字，排除A, E, F。\n",
    "\n",
    "2.下列哪些不是Python关键字。（）\n",
    "\n",
    "A. if B. then C. goto D. while\n",
    "\n",
    "答案：\n",
    "\n",
    "C. 关键词表如下所示：\n",
    "\n",
    "![关键词表](Chapter2/imgs/%E5%85%B3%E9%94%AE%E8%AF%8D.png)\n",
    "\n",
    "\n",
    "3.判断对错：在Python中，一行代码表示一条语句，语句结束时可以加分号，也可以省略分号。\n",
    "\n",
    "答案：\n",
    "\n",
    "正确。Python语句结束时可以加分号，但不符合Python编程规范。\n",
    "\n",
    "4.请自己动手编写两个模块，并使用三种导入语句导入模块中的元素。\n",
    "\n",
    "答案：\n",
    "\n",
    "见 $Chapter2/codes/hello.py$"
   ]
  }
 ],
 "metadata": {
  "interpreter": {
   "hash": "b03d5a8ef20cdf9f2f744503200337541a2f0f9b8f735fda0efe35660083b9fa"
  },
  "kernelspec": {
   "display_name": "Python 3.7.11 ('pt-cuda')",
   "language": "python",
   "name": "python3"
  },
  "language_info": {
   "codemirror_mode": {
    "name": "ipython",
    "version": 3
   },
   "file_extension": ".py",
   "mimetype": "text/x-python",
   "name": "python",
   "nbconvert_exporter": "python",
   "pygments_lexer": "ipython3",
   "version": "3.7.11"
  },
  "orig_nbformat": 4
 },
 "nbformat": 4,
 "nbformat_minor": 2
}
