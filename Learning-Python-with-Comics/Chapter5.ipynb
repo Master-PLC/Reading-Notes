{
 "cells": [
  {
   "cell_type": "markdown",
   "metadata": {},
   "source": [
    "#### 5.1 分支语句\n",
    "\n",
    "##### 5.1.1 if结构\n",
    "\n",
    "if结构如下图所示：\n",
    "\n",
    "![if结构](Chapter5/imgs/if结构.png)"
   ]
  },
  {
   "cell_type": "code",
   "execution_count": 2,
   "metadata": {},
   "outputs": [
    {
     "name": "stdout",
     "output_type": "stream",
     "text": [
      "您需要加倍努力! \n"
     ]
    }
   ],
   "source": [
    "# 使用if结构\n",
    "\n",
    "score = int(input(\"请输入一个0~100整数: \"))\n",
    "\n",
    "!python Chapter5/codes/ch5_1_1.py -s $score\n"
   ]
  },
  {
   "cell_type": "markdown",
   "metadata": {},
   "source": [
    "##### 5.1.2 if-else结构\n",
    "\n",
    "if-else结构如下图所示：\n",
    "\n",
    "![if-else结构](Chapter5/imgs/if-else结构.jpg)"
   ]
  },
  {
   "cell_type": "code",
   "execution_count": 3,
   "metadata": {},
   "outputs": [
    {
     "name": "stdout",
     "output_type": "stream",
     "text": [
      "您的成绩还可以，仍需继续努力! \n"
     ]
    }
   ],
   "source": [
    "# 使用if-else结构\n",
    "\n",
    "score = int(input(\"请输入一个0~100整数: \"))\n",
    "\n",
    "!python Chapter5/codes/ch5_1_2.py -s $score\n"
   ]
  },
  {
   "cell_type": "markdown",
   "metadata": {},
   "source": [
    "##### 5.1.3 if-elif-else结构\n",
    "\n",
    "if-elif-else结构如下图所示：\n",
    "\n",
    "![if-elif-else结构](Chapter5/imgs/if-elif-else结构.jpg)"
   ]
  },
  {
   "cell_type": "code",
   "execution_count": 4,
   "metadata": {},
   "outputs": [
    {
     "name": "stdout",
     "output_type": "stream",
     "text": [
      "Grade = D\n"
     ]
    }
   ],
   "source": [
    "# 使用if-else结构\n",
    "\n",
    "score = int(input(\"请输入一个0~100整数: \"))\n",
    "\n",
    "!python Chapter5/codes/ch5_1_3.py -s $score\n"
   ]
  },
  {
   "cell_type": "markdown",
   "metadata": {},
   "source": [
    "#### 5.2 循环语句\n",
    "\n",
    "##### 5.2.1 while语句\n",
    "\n",
    "while语句的语法如下图所示：\n",
    "\n",
    "![while语句](Chapter5/imgs/while语句.jpg)"
   ]
  },
  {
   "cell_type": "code",
   "execution_count": 6,
   "metadata": {},
   "outputs": [
    {
     "name": "stdout",
     "output_type": "stream",
     "text": [
      "i = 32\n",
      "i * i = 1024\n"
     ]
    }
   ],
   "source": [
    "# 使用while语句\n",
    "\n",
    "!python Chapter5/codes/ch5_2_1_1.py\n"
   ]
  },
  {
   "cell_type": "code",
   "execution_count": 7,
   "metadata": {},
   "outputs": [
    {
     "name": "stdout",
     "output_type": "stream",
     "text": [
      "1 * 1 = 1\n",
      "2 * 2 = 4\n",
      "3 * 3 = 9\n",
      "4 * 4 = 16\n",
      "While over!\n"
     ]
    }
   ],
   "source": [
    "# 使用while-else语句\n",
    "\n",
    "!python Chapter5/codes/ch5_2_1_2.py\n"
   ]
  },
  {
   "cell_type": "code",
   "execution_count": 8,
   "metadata": {},
   "outputs": [
    {
     "name": "stdout",
     "output_type": "stream",
     "text": [
      "1 * 1 = 1\n",
      "2 * 2 = 4\n"
     ]
    }
   ],
   "source": [
    "# 使用while-else语句与break语句（不执行else语句）\n",
    "\n",
    "!python Chapter5/codes/ch5_2_1_3.py\n"
   ]
  },
  {
   "cell_type": "markdown",
   "metadata": {},
   "source": [
    "##### 5.2.2 for语句\n",
    "\n",
    "for语句的语法如下图所示：\n",
    "\n",
    "![for语句](Chapter5/imgs/for语句.jpg)"
   ]
  },
  {
   "cell_type": "code",
   "execution_count": 9,
   "metadata": {},
   "outputs": [
    {
     "name": "stdout",
     "output_type": "stream",
     "text": [
      "---字符串-------\n",
      "H\n",
      "e\n",
      "l\n",
      "l\n",
      "o\n",
      "----整数列表------\n",
      "43\n",
      "32\n",
      "55\n",
      "74\n"
     ]
    }
   ],
   "source": [
    "# 使用for语句\n",
    "\n",
    "!python Chapter5/codes/ch5_2_2_1.py\n"
   ]
  },
  {
   "cell_type": "code",
   "execution_count": 11,
   "metadata": {},
   "outputs": [
    {
     "name": "stdout",
     "output_type": "stream",
     "text": [
      "0\n",
      "1\n",
      "2\n",
      "3\n",
      "4\n",
      "5\n",
      "6\n",
      "7\n",
      "8\n",
      "9\n",
      "For over!\n"
     ]
    }
   ],
   "source": [
    "# 使用for-else语句\n",
    "\n",
    "!python Chapter5/codes/ch5_2_2_2.py\n"
   ]
  },
  {
   "cell_type": "code",
   "execution_count": 12,
   "metadata": {},
   "outputs": [
    {
     "name": "stdout",
     "output_type": "stream",
     "text": [
      "0\n",
      "1\n",
      "2\n"
     ]
    }
   ],
   "source": [
    "# 使用for-else语句与break语句（不执行else语句）\n",
    "\n",
    "!python Chapter5/codes/ch5_2_2_3.py\n"
   ]
  },
  {
   "cell_type": "markdown",
   "metadata": {},
   "source": [
    "#### 5.3 跳转语句\n",
    "\n",
    "##### 5.3.1 break语句\n",
    "\n",
    "break语句的流程图如下图所示：\n",
    "\n",
    "![break语句流程图](Chapter5/imgs/break语句流程图.jpg)"
   ]
  },
  {
   "cell_type": "code",
   "execution_count": 13,
   "metadata": {},
   "outputs": [
    {
     "name": "stdout",
     "output_type": "stream",
     "text": [
      "0\n",
      "1\n",
      "2\n"
     ]
    }
   ],
   "source": [
    "# 使用break语句\n",
    "\n",
    "!python Chapter5/codes/ch5_3_1.py\n"
   ]
  },
  {
   "cell_type": "markdown",
   "metadata": {},
   "source": [
    "##### 5.3.2 continue语句\n",
    "\n",
    "continue语句的流程图如下图所示：\n",
    "\n",
    "![continue语句流程图](Chapter5/imgs/continue语句流程图.jpg)"
   ]
  },
  {
   "cell_type": "code",
   "execution_count": 14,
   "metadata": {},
   "outputs": [
    {
     "name": "stdout",
     "output_type": "stream",
     "text": [
      "0\n",
      "1\n",
      "2\n",
      "4\n",
      "5\n",
      "6\n",
      "7\n",
      "8\n",
      "9\n"
     ]
    }
   ],
   "source": [
    "# 使用continue语句\n",
    "\n",
    "!python Chapter5/codes/ch5_3_2.py\n"
   ]
  },
  {
   "cell_type": "markdown",
   "metadata": {},
   "source": [
    "#### 5.4 动动手——计算水仙花数"
   ]
  },
  {
   "cell_type": "code",
   "execution_count": 15,
   "metadata": {},
   "outputs": [
    {
     "name": "stdout",
     "output_type": "stream",
     "text": [
      "i = 153\n",
      "i = 370\n",
      "i = 371\n",
      "i = 407\n"
     ]
    }
   ],
   "source": [
    "# 计算水仙花数，水仙花数是一个三位数，三位数各位的立方之和等于三位数本身。\n",
    "\n",
    "!python Chapter5/codes/ch5_4.py\n"
   ]
  },
  {
   "cell_type": "markdown",
   "metadata": {},
   "source": [
    "#### 5.5 练一练\n",
    "\n",
    "1.编写程序，通过for循环计算水仙花数。\n",
    "\n",
    "答案：\n",
    "\n",
    "见 $Chapter5/codes/practice1.py$"
   ]
  },
  {
   "cell_type": "code",
   "execution_count": 20,
   "metadata": {},
   "outputs": [
    {
     "name": "stdout",
     "output_type": "stream",
     "text": [
      "i = 153\n",
      "i = 370\n",
      "i = 371\n",
      "i = 407\n"
     ]
    }
   ],
   "source": [
    "!python Chapter5/codes/practice1.py"
   ]
  },
  {
   "cell_type": "markdown",
   "metadata": {},
   "source": [
    "2.能从循环语句的循环体中跳出的语句是（）。\n",
    "\n",
    "A. for语句 B. break语句 C. while语句 D. continue语句\n",
    "\n",
    "答案：\n",
    "\n",
    "B.\n",
    "\n",
    "3 下列语句执行后，x的值是（）。\n",
    "\n",
    "```python\n",
    "a = 3; b = 4; x = 5\n",
    "if a < b:\n",
    "a += 1\n",
    "x += 1\n",
    "```\n",
    "\n",
    "A. 5 B. 3 C. 4 D. 6\n",
    "\n",
    "答案：\n",
    "\n",
    "D. python编程对缩进要求严格，由于\n",
    "\n",
    "```python\n",
    "a += 1\n",
    "x += 1\n",
    "```\n",
    "\n",
    "没有在 `if语句` 下缩进，所以均只运行一遍，所以 `x += 1` 之后 `x = 6`。"
   ]
  }
 ],
 "metadata": {
  "interpreter": {
   "hash": "b03d5a8ef20cdf9f2f744503200337541a2f0f9b8f735fda0efe35660083b9fa"
  },
  "kernelspec": {
   "display_name": "Python 3.7.11 ('pt-cuda')",
   "language": "python",
   "name": "python3"
  },
  "language_info": {
   "codemirror_mode": {
    "name": "ipython",
    "version": 3
   },
   "file_extension": ".py",
   "mimetype": "text/x-python",
   "name": "python",
   "nbconvert_exporter": "python",
   "pygments_lexer": "ipython3",
   "version": "3.7.11"
  },
  "orig_nbformat": 4
 },
 "nbformat": 4,
 "nbformat_minor": 2
}
