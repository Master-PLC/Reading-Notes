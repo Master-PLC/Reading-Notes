{
 "cells": [
  {
   "cell_type": "markdown",
   "metadata": {},
   "source": [
    "#### 6.6 动动手——遍历字典"
   ]
  },
  {
   "cell_type": "code",
   "execution_count": 1,
   "metadata": {},
   "outputs": [
    {
     "name": "stdout",
     "output_type": "stream",
     "text": [
      "---遍历键---\n",
      "学号: 102\n",
      "学号: 105\n",
      "学号: 109\n",
      "---遍历值---\n",
      "学生: 张三\n",
      "学生: 李四\n",
      "学生: 王五\n",
      "---遍历键:值---\n",
      "学号: 102 -学生: 张三\n",
      "学号: 105 -学生: 李四\n",
      "学号: 109 -学生: 王五\n"
     ]
    }
   ],
   "source": [
    "# 遍历字典\n",
    "\n",
    "!python Chapter6/codes/ch6_6.py"
   ]
  },
  {
   "cell_type": "markdown",
   "metadata": {},
   "source": [
    "#### 6.7 练一练\n",
    "\n",
    "判断对错（请在括号内打√或×，√表示正确，×表示错误）。\n",
    "\n",
    "1）列表的元素是不能重复的。（）\n",
    "\n",
    "2）集合的元素是不能重复的。（）\n",
    "\n",
    "3）字典由键和值两个视图构成，键视图中的元素不能重复，值视图中的元素可以重复。（）\n",
    "\n",
    "4）在序列的切片运算符[start：end]中，start是开始索引，end是结束索引。切下来的子列表中包括start和end索引位置的元素。（）\n",
    "\n",
    "答案：\n",
    "\n",
    "1）×。列表元素是可重复的。\n",
    "\n",
    "2）√。\n",
    "\n",
    "3）√。\n",
    "\n",
    "4）×。切下来的子列表不包括end索引位置的元素。"
   ]
  }
 ],
 "metadata": {
  "interpreter": {
   "hash": "b03d5a8ef20cdf9f2f744503200337541a2f0f9b8f735fda0efe35660083b9fa"
  },
  "kernelspec": {
   "display_name": "Python 3.7.11 ('pt-cuda')",
   "language": "python",
   "name": "python3"
  },
  "language_info": {
   "codemirror_mode": {
    "name": "ipython",
    "version": 3
   },
   "file_extension": ".py",
   "mimetype": "text/x-python",
   "name": "python",
   "nbconvert_exporter": "python",
   "pygments_lexer": "ipython3",
   "version": "3.7.11"
  },
  "orig_nbformat": 4
 },
 "nbformat": 4,
 "nbformat_minor": 2
}
