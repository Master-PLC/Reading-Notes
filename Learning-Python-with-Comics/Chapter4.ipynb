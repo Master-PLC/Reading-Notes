{
 "cells": [
  {
   "cell_type": "markdown",
   "metadata": {},
   "source": [
    "#### 4.7 练一练\n",
    "\n",
    "1.设有变量赋值x=3.5；y=4.6；z=5.7，则以下表达式中值为True的是（）。\n",
    "\n",
    "A.x＞y or x＞z\n",
    "\n",
    "B.x!=y\n",
    "\n",
    "C.z＞y+x\n",
    "\n",
    "D.x＜y and not(x＞z)\n",
    "\n",
    "**答案**：\n",
    "\n",
    "B, D. 对于A选项，x＞y为False，x＞z也为False，所以x＞y or x＞z为False；对于C选项，z＞y+x为False。\n",
    "\n",
    "2.下列关于使用“＜＜”和“＞＞”操作符，结果正确的是（）。\n",
    "\n",
    "A.0b10100＞＞4的结果是1\n",
    "\n",
    "B.0b10100＞＞4的结果是2\n",
    "\n",
    "C.0b0000101＜＜2的结果是20\n",
    "\n",
    "D.0b0000101＜＜2的结果是10\n",
    "\n",
    "**答案**：\n",
    "\n",
    "A, C. 右移n位，高位采用符号位补位；左移n位，低位用0补位。"
   ]
  },
  {
   "cell_type": "code",
   "execution_count": 3,
   "metadata": {},
   "outputs": [
    {
     "name": "stdout",
     "output_type": "stream",
     "text": [
      "0b10100>>4 = 1\n",
      "0b0000101<<2 = 20\n"
     ]
    }
   ],
   "source": [
    "# 2 - A, B, C, D\n",
    "\n",
    "print(f\"0b10100>>4 = {0b10100>>4}\")\n",
    "print(f\"0b0000101<<2 = {0b0000101<<2}\")"
   ]
  },
  {
   "cell_type": "markdown",
   "metadata": {},
   "source": [
    "3.下列表达式中哪两个相等？（）\n",
    "\n",
    "A. 16＞＞2  B. 16/2 ** 2  C. 16 * 4  D. 16＜＜2\n",
    "\n",
    "**答案**：\n",
    "\n",
    "A = B, C = D. "
   ]
  },
  {
   "cell_type": "code",
   "execution_count": 4,
   "metadata": {},
   "outputs": [
    {
     "name": "stdout",
     "output_type": "stream",
     "text": [
      "16>>2 = 4\n",
      "16/2**2 = 4.0\n",
      "16*4 = 64\n",
      "16<<2 = 64\n"
     ]
    }
   ],
   "source": [
    "# 3 - A, B, C, D\n",
    "print(f\"16>>2 = {16>>2}\")\n",
    "print(f\"16/2**2 = {16/2**2}\")\n",
    "print(f\"16*4 = {16*4}\")\n",
    "print(f\"16<<2 = {16<<2}\")"
   ]
  },
  {
   "cell_type": "markdown",
   "metadata": {},
   "source": [
    "4.下列关于运算符优先级描述正确的是（）\n",
    "\n",
    "A.算术运算符→赋值运算符→关系运算符，依次从高到低\n",
    "\n",
    "B.算术运算符→关系运算符→赋值运算符，依次从高到低\n",
    "\n",
    "C.关系运算符→赋值运算符→算术运算符，依次从高到低\n",
    "\n",
    "D.关系运算符→算术运算符→赋值运算符，依次从高到低\n",
    "\n",
    "**答案**：\n",
    "\n",
    "B. 运算符优先级如下图所示。优先级从高到低大体是：算数运算符→位运算符→关系运算符→逻辑运算符→赋值运算符。\n",
    "\n",
    "![运算符优先级](Chapter4/imgs/运算符优先级.png)"
   ]
  }
 ],
 "metadata": {
  "interpreter": {
   "hash": "b03d5a8ef20cdf9f2f744503200337541a2f0f9b8f735fda0efe35660083b9fa"
  },
  "kernelspec": {
   "display_name": "Python 3.7.11 ('pt-cuda')",
   "language": "python",
   "name": "python3"
  },
  "language_info": {
   "codemirror_mode": {
    "name": "ipython",
    "version": 3
   },
   "file_extension": ".py",
   "mimetype": "text/x-python",
   "name": "python",
   "nbconvert_exporter": "python",
   "pygments_lexer": "ipython3",
   "version": "3.7.11"
  },
  "orig_nbformat": 4
 },
 "nbformat": 4,
 "nbformat_minor": 2
}
