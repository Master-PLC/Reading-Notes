{
 "cells": [
  {
   "cell_type": "markdown",
   "metadata": {},
   "source": [
    "#### 3.7 练一练\n",
    "\n",
    "1.下列表示数字正确的是（）。\n",
    "\n",
    "A. 30　B. -10　C. 0x1A　D. 1.96e-2\n",
    "\n",
    "**答案**：\n",
    "\n",
    "A, B, C, D.\n",
    "\n",
    "2.判断对错（请在括号内打√或×，√表示正确，×表示错误）。\n",
    "\n",
    "1）在Python中布尔类型只有两个值：0和1。（）\n",
    "\n",
    "2）bool（）函数可以将None、0、0.0、0j（复数）、''（空字符串）、[]（空列表）、（）（空元组）和{}（空字典）转换为False。（）\n",
    "\n",
    "\n",
    "**答案**：\n",
    "\n",
    "1）×. 布尔类型只有两个值：True和False。\n",
    "\n",
    "2）√.\n",
    "\n",
    "3.请自己动手编写代码，实现数字类型之间的隐式转换和显式转换。"
   ]
  },
  {
   "cell_type": "code",
   "execution_count": 1,
   "metadata": {},
   "outputs": [
    {
     "name": "stdout",
     "output_type": "stream",
     "text": [
      "3.0\n",
      "2.0\n",
      "1\n",
      "False\n"
     ]
    }
   ],
   "source": [
    "# 数字类型之间的隐式转换\n",
    "print(1.0 + 2)\n",
    "print(1.0 + True)\n",
    "\n",
    "# 数字类型的显示转换\n",
    "print(int(1.0))\n",
    "print(bool([]))"
   ]
  }
 ],
 "metadata": {
  "interpreter": {
   "hash": "b03d5a8ef20cdf9f2f744503200337541a2f0f9b8f735fda0efe35660083b9fa"
  },
  "kernelspec": {
   "display_name": "Python 3.7.11 ('pt-cuda')",
   "language": "python",
   "name": "python3"
  },
  "language_info": {
   "codemirror_mode": {
    "name": "ipython",
    "version": 3
   },
   "file_extension": ".py",
   "mimetype": "text/x-python",
   "name": "python",
   "nbconvert_exporter": "python",
   "pygments_lexer": "ipython3",
   "version": "3.7.11"
  },
  "orig_nbformat": 4
 },
 "nbformat": 4,
 "nbformat_minor": 2
}
