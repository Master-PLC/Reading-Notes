{
 "cells": [
  {
   "cell_type": "markdown",
   "metadata": {},
   "source": [
    "#### 8.4 可变参数\n",
    "\n",
    "##### 8.4.1 基于元组的可变参数（*可变参数）"
   ]
  },
  {
   "cell_type": "code",
   "execution_count": 1,
   "metadata": {},
   "outputs": [
    {
     "name": "stdout",
     "output_type": "stream",
     "text": [
      "150.0\n",
      "110.0\n"
     ]
    }
   ],
   "source": [
    "# 基于元组的可变参数实例代码\n",
    "\n",
    "!python Chapter8/codes/ch8_4_1.py"
   ]
  },
  {
   "cell_type": "markdown",
   "metadata": {},
   "source": [
    "#### 8.4 可变参数\n",
    "\n",
    "##### 8.4.1 基于元组的可变参数（*可变参数）"
   ]
  },
  {
   "cell_type": "markdown",
   "metadata": {},
   "source": [
    "#### 7.6 练一练\n",
    "\n",
    "1.设有变量s='Pyhon'，则\"{0:3}\".format（s）表达式的输出结果是（）。\n",
    "\n",
    "A. 'hon' B. 'Pyhon' C. 'PYTHON' D. 'PYT'\n",
    "\n",
    "答案：\n",
    "\n",
    "B."
   ]
  },
  {
   "cell_type": "code",
   "execution_count": 15,
   "metadata": {},
   "outputs": [
    {
     "data": {
      "text/plain": [
       "'Python'"
      ]
     },
     "execution_count": 15,
     "metadata": {},
     "output_type": "execute_result"
    }
   ],
   "source": [
    "\"{0:3}\".format(\"Python\")"
   ]
  },
  {
   "cell_type": "markdown",
   "metadata": {},
   "source": [
    "2.设有变量赋值s=\"Hello World\"，则以下选项中可以输出\"World\"子字符串的是（）。\n",
    "\n",
    "A. print(s[-5:-1]) B. print(s[-5:0]) C. print(s[-4:-1]) D. print(s[-5:])\n",
    "\n",
    "答案：\n",
    "\n",
    "D. 切片是不包含最后一个下标的元素的。"
   ]
  },
  {
   "cell_type": "code",
   "execution_count": 17,
   "metadata": {},
   "outputs": [
    {
     "name": "stdout",
     "output_type": "stream",
     "text": [
      "Worl\n",
      "World\n"
     ]
    }
   ],
   "source": [
    "s = \"Hello World\"\n",
    "print(s[-5:-1])\n",
    "print(s[-5:])"
   ]
  },
  {
   "cell_type": "markdown",
   "metadata": {},
   "source": [
    "3.在以下选项中可以倒置\"World\"字符串的是（）。\n",
    "\n",
    "A. \"World\"[::-1] B. \"World\"[::] C. \"World\"[0::-1] D. \"World\"[-1::-1]\n",
    "\n",
    "答案：\n",
    "\n",
    "A.\n",
    "\n",
    "4.判断对错（请在括号内打√或×，√表示正确，×表示错误）：\n",
    "\n",
    "1）原始字符串是在普通字符串前加r，使用它的优势是：在字符串中特殊字符不需要被转义。（）\n",
    "\n",
    "2）长字符串是，使用三个单引号（'''）或三个双引号（\"\"\"）括起来的字符串，使用它的优势是：在字符串中特殊字符不需要被转义。（）\n",
    "\n",
    "3）将字符串转换为数字，可以使用int（）和float（）函数实现。（）\n",
    "\n",
    "4）将数字转换为字符串，可以使用str（）函数实现。（）\n",
    "\n",
    "答案：\n",
    "\n",
    "1）√。\n",
    "\n",
    "2）√。\n",
    "\n",
    "3）√。\n",
    "\n",
    "4）√。"
   ]
  }
 ],
 "metadata": {
  "interpreter": {
   "hash": "b03d5a8ef20cdf9f2f744503200337541a2f0f9b8f735fda0efe35660083b9fa"
  },
  "kernelspec": {
   "display_name": "Python 3.7.11 ('pt-cuda')",
   "language": "python",
   "name": "python3"
  },
  "language_info": {
   "codemirror_mode": {
    "name": "ipython",
    "version": 3
   },
   "file_extension": ".py",
   "mimetype": "text/x-python",
   "name": "python",
   "nbconvert_exporter": "python",
   "pygments_lexer": "ipython3",
   "version": "3.7.11"
  },
  "orig_nbformat": 4
 },
 "nbformat": 4,
 "nbformat_minor": 2
}
